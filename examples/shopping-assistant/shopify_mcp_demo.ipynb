{
 "cells": [
  {
   "cell_type": "markdown",
   "id": "3113dab0-f2d8-4513-9c82-3d8536b46665",
   "metadata": {},
   "source": [
    "# 🛒 Shopping Assistant with OpenResponses\n",
    "1. Add `api_key` before running the next cell.\n",
    "2. Now run the cell to experience real-time shopping.\n",
    "\n",
    "## What happens underneath\n",
    "1. Find a product and add to cart with **SHOPIFY REMOTE MCP** and **meta-llama/llama-4-maverick-17b-128e-instruct**.  \n",
    "2. Get the checkout link, all with just 4 lines of code. (Currently Llama is configured)  \n",
    "3. OpenResponses is doing the heavy lifting of agent orchestration.\n",
    "\n",
    "# We deserve a star 😄 ? \n",
    "- If you like this, give us a star at <https://github.com/masaic-ai-platform/open-responses>"
   ]
  },
  {
   "cell_type": "code",
   "execution_count": 1,
   "id": "b34614bb",
   "metadata": {},
   "outputs": [
    {
     "name": "stdout",
     "output_type": "stream",
     "text": [
      "called OpenResponses....\n",
      "===========================================\n",
      "I've added the Blemish Toner Pads to your cart. You can review your cart and proceed to checkout here: https://pitchskin.com/cart/c/Z2NwLWFzaWEtc291dGhlYXN0MTowMUpXM1FZN1BWQkZRV0cwN0o0OEg5UTVEUg?key=c14a6d80e9d85646c7a6f6d42f1eb055\n",
      "\n",
      "Is there anything else I can help you with? Do you need help with shipping options or have any discount codes you'd like to apply?\n"
     ]
    }
   ],
   "source": [
    "from openai import OpenAI\n",
    "\n",
    "\"\"\"This example demonstrates how to use the OpenAI python SDK to interact with the Shopify MCP tools\"\"\"\n",
    "\n",
    "def main():\n",
    "    client = OpenAI(\n",
    "        api_key= \"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\"\n",
    "    )\n",
    "    print(\"called OpenResponses....\")\n",
    "    print(\"===========================================\")\n",
    "\n",
    "    #code to call OpenResponses starts here \n",
    "    response = client.responses.create(\n",
    "        model=\"groq@meta-llama/llama-4-maverick-17b-128e-instruct\", #should follow convention model-provider@model-name\n",
    "        tools=[\n",
    "            {\n",
    "                \"type\": \"mcp\",\n",
    "                \"server_label\": \"shopify\",\n",
    "                \"server_url\": \"https://pitchskin.com/api/mcp\",\n",
    "                \"allowed_tools\": [\"search_shop_catalog\", \"update_cart\"]\n",
    "            }\n",
    "        ],\n",
    "        input=\"Add the Blemish Toner Pads to my cart\"\n",
    "    )\n",
    "    print(response.output[0].content[0].text)\n",
    "    \n",
    "if __name__ == \"__main__\":\n",
    "    main()"
   ]
  },
  {
   "cell_type": "code",
   "execution_count": null,
   "id": "fe5e8d7e-d92b-4231-bf84-478d113bda5a",
   "metadata": {},
   "outputs": [],
   "source": []
  }
 ],
 "metadata": {
  "kernelspec": {
   "display_name": "Python 3 (ipykernel)",
   "language": "python",
   "name": "python3"
  },
  "language_info": {
   "codemirror_mode": {
    "name": "ipython",
    "version": 3
   },
   "file_extension": ".py",
   "mimetype": "text/x-python",
   "name": "python",
   "nbconvert_exporter": "python",
   "pygments_lexer": "ipython3",
   "version": "3.11.6"
  }
 },
 "nbformat": 4,
 "nbformat_minor": 5
}
